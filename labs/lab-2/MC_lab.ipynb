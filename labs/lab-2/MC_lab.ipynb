{
 "cells": [
  {
   "cell_type": "markdown",
   "metadata": {},
   "source": [
    "# Reinforcement Learning - Monte Carlo\n",
    "If you want to test/submit your solution **restart the kernel, run all cells and submit the mc_autograde.py file into codegrade.**"
   ]
  },
  {
   "cell_type": "code",
   "execution_count": 1,
   "metadata": {},
   "outputs": [],
   "source": [
    "# This cell imports %%execwritefile command (executes cell and writes it into file). \n",
    "# All cells that start with %%execwritefile should be in mc_autograde.py file after running all cells.\n",
    "from custommagics import CustomMagics\n",
    "get_ipython().register_magics(CustomMagics)"
   ]
  },
  {
   "cell_type": "code",
   "execution_count": 2,
   "metadata": {},
   "outputs": [
    {
     "name": "stdout",
     "output_type": "stream",
     "text": [
      "Overwriting mc_autograde.py\n"
     ]
    }
   ],
   "source": [
    "%%execwritefile mc_autograde.py\n",
    "import numpy as np\n",
    "from collections import defaultdict\n",
    "from tqdm import tqdm as _tqdm\n",
    "\n",
    "def tqdm(*args, **kwargs):\n",
    "    return _tqdm(*args, **kwargs, mininterval=1)  # Safety, do not overflow buffer"
   ]
  },
  {
   "cell_type": "code",
   "execution_count": 3,
   "metadata": {},
   "outputs": [],
   "source": [
    "import matplotlib.pyplot as plt\n",
    "import sys\n",
    "\n",
    "\n",
    "%matplotlib inline\n",
    "\n",
    "assert sys.version_info[:3] >= (3, 6, 0), \"Make sure you have Python 3.6 installed!\""
   ]
  },
  {
   "cell_type": "markdown",
   "metadata": {
    "nbgrader": {
     "grade": false,
     "grade_id": "cell-7ab207a9f93cf4d3",
     "locked": true,
     "schema_version": 1,
     "solution": false
    }
   },
   "source": [
    "## 1. Monte Carlo Prediction"
   ]
  },
  {
   "cell_type": "markdown",
   "metadata": {
    "nbgrader": {
     "grade": false,
     "grade_id": "cell-5f0c1d608436b67b",
     "locked": true,
     "schema_version": 1,
     "solution": false
    }
   },
   "source": [
    "For the Monte Carlo Prediction we will look at the Blackjack game (Example 5.1 from the book), for which the `BlackjackEnv` is implemented in `blackjack.py`. Note that compared to the gridworld, the state is no longer a single integer, which is why we use a dictionary to represent the value function instead of a numpy array. By using `defaultdict`, each state gets a default value of 0."
   ]
  },
  {
   "cell_type": "code",
   "execution_count": 4,
   "metadata": {
    "nbgrader": {
     "grade": false,
     "grade_id": "cell-a342b69fcfdea5b2",
     "locked": true,
     "schema_version": 1,
     "solution": false
    }
   },
   "outputs": [],
   "source": [
    "from blackjack import BlackjackEnv\n",
    "env = BlackjackEnv()"
   ]
  },
  {
   "cell_type": "markdown",
   "metadata": {},
   "source": [
    "For the Monte Carlo algorithm, we no longer have transition probabilities and we need to *interact* with the environment. This means that we start an episode by using `env.reset` and send the environment actions via `env.step` to observe the reward and next observation (state)."
   ]
  },
  {
   "cell_type": "code",
   "execution_count": 5,
   "metadata": {
    "nbgrader": {
     "grade": false,
     "grade_id": "cell-85356add2643980e",
     "locked": true,
     "schema_version": 1,
     "solution": false
    }
   },
   "outputs": [],
   "source": [
    "# So let's have a look at what we can do in general with an environment...\n",
    "import gym\n",
    "?gym.Env"
   ]
  },
  {
   "cell_type": "code",
   "execution_count": 6,
   "metadata": {
    "nbgrader": {
     "grade": false,
     "grade_id": "cell-251b7b17c5d08a24",
     "locked": true,
     "schema_version": 1,
     "solution": false
    }
   },
   "outputs": [],
   "source": [
    "# We can also look at the documentation/implementation of a method\n",
    "?env.step"
   ]
  },
  {
   "cell_type": "code",
   "execution_count": 7,
   "metadata": {
    "nbgrader": {
     "grade": false,
     "grade_id": "cell-6decb2ab83c5bcec",
     "locked": true,
     "schema_version": 1,
     "solution": false
    }
   },
   "outputs": [],
   "source": [
    "??BlackjackEnv"
   ]
  },
  {
   "cell_type": "markdown",
   "metadata": {
    "nbgrader": {
     "grade": false,
     "grade_id": "cell-ae161126d3cb1b7b",
     "locked": true,
     "schema_version": 1,
     "solution": false
    }
   },
   "source": [
    "A very simple policy for Blackjack is to *stick* if we have 20 or 21 points and *hit* otherwise. We want to know how good this policy is. This policy is *deterministic* and therefore a function that maps an observation to a single action. Technically, we can implement this as a dictionary , a function or a class with a function, where we use the last option. Moreover, it is often useful (as you will see later) to implement a function that returns  the probability $\\pi(a|s)$ for the state action pair (the probability that this policy would perform certain action in given state). We group these two functions in a policy class. To get started, let's implement this simple policy for BlackJack."
   ]
  },
  {
   "cell_type": "code",
   "execution_count": 8,
   "metadata": {
    "nbgrader": {
     "grade": false,
     "grade_id": "cell-9fdcb503df9cdb08",
     "locked": false,
     "schema_version": 1,
     "solution": true
    }
   },
   "outputs": [
    {
     "name": "stdout",
     "output_type": "stream",
     "text": [
      "Appending to mc_autograde.py\n"
     ]
    }
   ],
   "source": [
    "%%execwritefile -a mc_autograde.py\n",
    "\n",
    "class SimpleBlackjackPolicy(object):\n",
    "    \"\"\"\n",
    "    A simple BlackJack policy that sticks with 20 or 21 points and hits otherwise.\n",
    "    \"\"\"\n",
    "    def get_probs(self, states, actions):\n",
    "        \"\"\"\n",
    "        This method takes a list of states and a list of actions and returns a numpy array that contains a probability\n",
    "        of perfoming action in given state for every corresponding state action pair. \n",
    "\n",
    "        Args:\n",
    "            states: a list of states.\n",
    "            actions: a list of actions.\n",
    "\n",
    "        Returns:\n",
    "            Numpy array filled with probabilities (same length as states and actions)\n",
    "        \"\"\"\n",
    "        probs = np.zeros(len(states))\n",
    "        for i, (player_sum, _, _) in enumerate(states):\n",
    "            if player_sum < 20 and actions[i] == 1:\n",
    "                probs[i] = 1\n",
    "            elif player_sum >= 20 and actions[i] == 0:\n",
    "                probs[i] = 1\n",
    "        return np.array(probs)\n",
    "    \n",
    "    def sample_action(self, state):\n",
    "        \"\"\"\n",
    "        This method takes a state as input and returns an action sampled from this policy.  \n",
    "\n",
    "        Args:\n",
    "            state: current state\n",
    "\n",
    "        Returns:\n",
    "            An action (int).\n",
    "        \"\"\"\n",
    "        options = [0,1]\n",
    "        action = np.random.choice(options, p=self.get_probs([state]*2, options))\n",
    "        \n",
    "        return action"
   ]
  },
  {
   "cell_type": "code",
   "execution_count": 9,
   "metadata": {
    "nbgrader": {
     "grade": true,
     "grade_id": "cell-99f02e2d9b338a5b",
     "locked": true,
     "points": 1,
     "schema_version": 1,
     "solution": false
    }
   },
   "outputs": [
    {
     "name": "stdout",
     "output_type": "stream",
     "text": [
      "State: (14, 10, False)\n",
      "Sampled Action: 1\n",
      "Probabilities [stick, hit]: [0. 1.]\n"
     ]
    }
   ],
   "source": [
    "# Let's check if it makes sense\n",
    "env = BlackjackEnv()\n",
    "s = env.reset()\n",
    "policy = SimpleBlackjackPolicy()\n",
    "print(\"State: {}\\nSampled Action: {}\\nProbabilities [stick, hit]: {}\".format(s, policy.sample_action(s), policy.get_probs([s,s],[0,1])))"
   ]
  },
  {
   "cell_type": "markdown",
   "metadata": {},
   "source": [
    "Since there are multiple algorithms which require data from single episode (or multiple episodes) it is often useful to write a routine that will sample a single episode. This will save us some time later. Implement a *sample_episode* function which uses environment and policy to sample a single episode."
   ]
  },
  {
   "cell_type": "code",
   "execution_count": 10,
   "metadata": {},
   "outputs": [
    {
     "name": "stdout",
     "output_type": "stream",
     "text": [
      "Appending to mc_autograde.py\n"
     ]
    }
   ],
   "source": [
    "%%execwritefile -a mc_autograde.py\n",
    "\n",
    "def sample_episode(env, policy):\n",
    "    \"\"\"\n",
    "    A sampling routine. Given environment and a policy samples one episode and returns states, actions, rewards\n",
    "    and dones from environment's step function and policy's sample_action function as lists.\n",
    "\n",
    "    Args:\n",
    "        env: OpenAI gym environment.\n",
    "        policy: A policy which allows us to sample actions with its sample_action method.\n",
    "\n",
    "    Returns:\n",
    "        Tuple of lists (states, actions, rewards, dones). All lists should have same length. \n",
    "        Hint: Do not include the state after the termination in the list of states.\n",
    "    \"\"\"\n",
    "    states, actions, rewards, dones = [], [], [], []\n",
    "    \n",
    "    s = env.reset()\n",
    "    done = False\n",
    "    # if player is bust, done==True\n",
    "    while not done: \n",
    "        states.append(s)\n",
    "        \n",
    "        a = policy.sample_action(s)\n",
    "        s, r, done, _ = env.step(a)\n",
    "        \n",
    "        actions.append(a)\n",
    "        rewards.append(r)\n",
    "        dones.append(done)\n",
    "    \n",
    "    return states, actions, rewards, dones"
   ]
  },
  {
   "cell_type": "code",
   "execution_count": 11,
   "metadata": {},
   "outputs": [
    {
     "name": "stdout",
     "output_type": "stream",
     "text": [
      "Episode 0:\n",
      "States [(13, 7, False), (15, 7, False), (19, 7, False)]\n",
      "Actions [1, 1, 1]\n",
      "Rewards [0, 0, -1]\n",
      "Dones [False, False, True]\n",
      "\n",
      "Episode 1:\n",
      "States [(13, 1, False)]\n",
      "Actions [1]\n",
      "Rewards [-1]\n",
      "Dones [True]\n",
      "\n",
      "Episode 2:\n",
      "States [(13, 10, False)]\n",
      "Actions [1]\n",
      "Rewards [-1]\n",
      "Dones [True]\n",
      "\n"
     ]
    }
   ],
   "source": [
    "# Let's sample some episodes\n",
    "env = BlackjackEnv()\n",
    "policy = SimpleBlackjackPolicy()\n",
    "for episode in range(3):\n",
    "    trajectory_data = sample_episode(env, policy)\n",
    "    print(\"Episode {}:\\nStates {}\\nActions {}\\nRewards {}\\nDones {}\\n\".format(episode,*trajectory_data))"
   ]
  },
  {
   "cell_type": "markdown",
   "metadata": {
    "nbgrader": {
     "grade": false,
     "grade_id": "cell-0184f4c719afb98c",
     "locked": true,
     "schema_version": 1,
     "solution": false
    }
   },
   "source": [
    "Now implement the MC prediction algorithm (either first visit or every visit). Hint: you can use `for i in tqdm(range(num_episodes))` to show a progress bar. Use the sampling function from above to sample data from a single episode."
   ]
  },
  {
   "cell_type": "code",
   "execution_count": 12,
   "metadata": {},
   "outputs": [
    {
     "name": "stdout",
     "output_type": "stream",
     "text": [
      "Appending to mc_autograde.py\n"
     ]
    }
   ],
   "source": [
    "%%execwritefile -a mc_autograde.py\n",
    "\n",
    "def mc_prediction(env, policy, num_episodes, discount_factor=1.0, sampling_function=sample_episode):\n",
    "    \"\"\"\n",
    "    Monte Carlo prediction algorithm. Calculates the value function\n",
    "    for a given policy using sampling.\n",
    "    \n",
    "    Args:\n",
    "        env: OpenAI gym environment.\n",
    "        policy: A policy which allows us to sample actions with its sample_action method.\n",
    "        num_episodes: Number of episodes to sample.\n",
    "        discount_factor: Gamma discount factor.\n",
    "        sampling_function: Function that generates data from one episode.\n",
    "    \n",
    "    Returns:\n",
    "        A dictionary that maps from state -> value.\n",
    "        The state is a tuple and the value is a float.\n",
    "    \"\"\"\n",
    "\n",
    "    # Keeps track of current V and count of returns for each state\n",
    "    # to calculate an update.\n",
    "    V = defaultdict(float)\n",
    "    returns_count = defaultdict(float)\n",
    "    returns_sum = defaultdict(float)\n",
    "    \n",
    "    for i in tqdm(range(num_episodes)):\n",
    "        trajectory_data = sampling_function(env, policy)\n",
    "        states, actions, rewards, dones = trajectory_data\n",
    "        T_trajectory = len(states)\n",
    "        G = 0\n",
    "        for t in range(T_trajectory-1, -1, -1):\n",
    "            state_t = states[t]\n",
    "            # use state[t] because this is the state that came\n",
    "            # before doing action actions[t] and receiving reward rewards[t]\n",
    "            G = discount_factor * G + rewards[t]\n",
    "            if state_t not in states[:t]:\n",
    "                returns_sum[state_t] += G\n",
    "                returns_count[state_t] += 1\n",
    "                V[state_t] = returns_sum[state_t] / returns_count[state_t]\n",
    "    return V"
   ]
  },
  {
   "cell_type": "code",
   "execution_count": 13,
   "metadata": {},
   "outputs": [
    {
     "name": "stderr",
     "output_type": "stream",
     "text": [
      "100%|██████████| 10000/10000 [00:01<00:00, 5099.35it/s]"
     ]
    },
    {
     "name": "stdout",
     "output_type": "stream",
     "text": [
      "defaultdict(<class 'float'>, {(20, 5, False): 0.668918918918919, (17, 5, False): -0.6637931034482759, (19, 4, False): -0.7567567567567568, (19, 4, True): -0.42857142857142855, (14, 4, True): -0.25, (13, 4, True): -0.6, (20, 10, False): 0.40842787682333875, (19, 10, False): -0.7075892857142857, (17, 10, False): -0.7099236641221374, (21, 7, False): 0.9594594594594594, (18, 7, False): -0.5981308411214953, (14, 10, False): -0.6246851385390428, (12, 10, False): -0.6134453781512605, (21, 5, False): 0.9298245614035088, (15, 5, False): -0.6764705882352942, (15, 8, False): -0.44680851063829785, (20, 2, False): 0.62, (16, 7, False): -0.7619047619047619, (20, 3, False): 0.6538461538461539, (16, 2, False): -0.7735849056603774, (14, 2, False): -0.7047619047619048, (16, 8, False): -0.689922480620155, (15, 4, False): -0.7289719626168224, (16, 4, True): -1.0, (16, 1, False): -0.7352941176470589, (15, 6, False): -0.6055045871559633, (20, 9, False): 0.8220858895705522, (18, 9, False): -0.6288659793814433, (13, 5, False): -0.6304347826086957, (20, 10, True): 0.4625, (14, 5, False): -0.7, (18, 10, False): -0.7028985507246377, (17, 7, False): -0.6324786324786325, (16, 4, False): -0.6095238095238096, (20, 1, False): 0.16981132075471697, (17, 4, False): -0.6504854368932039, (13, 4, False): -0.6, (16, 6, False): -0.5614035087719298, (17, 1, False): -0.6666666666666666, (21, 9, True): 0.9534883720930233, (14, 7, False): -0.7111111111111111, (17, 3, False): -0.6956521739130435, (16, 3, False): -0.6796116504854369, (17, 2, False): -0.7142857142857143, (18, 3, False): -0.6854838709677419, (13, 3, False): -0.6774193548387096, (16, 10, False): -0.6838235294117647, (19, 3, False): -0.7522935779816514, (15, 3, False): -0.5855855855855856, (21, 10, False): 0.8949152542372881, (13, 7, False): -0.5232558139534884, (19, 8, False): -0.7589285714285714, (12, 4, False): -0.6633663366336634, (15, 10, False): -0.672544080604534, (19, 5, False): -0.7431192660550459, (19, 5, True): -0.5625, (16, 5, False): -0.6216216216216216, (18, 4, False): -0.7807017543859649, (21, 1, False): 0.6461538461538462, (19, 1, False): -0.9047619047619048, (15, 1, False): -0.6631578947368421, (21, 4, False): 0.8271604938271605, (14, 1, False): -0.7326732673267327, (12, 8, False): -0.686046511627907, (13, 8, True): -0.3333333333333333, (21, 8, False): 0.984375, (18, 4, True): -0.5263157894736842, (15, 9, False): -0.4942528735632184, (19, 9, True): -0.5, (16, 10, True): -0.5098039215686274, (21, 9, False): 0.9555555555555556, (19, 9, False): -0.5510204081632653, (18, 9, True): -0.36363636363636365, (12, 1, False): -0.7222222222222222, (18, 2, False): -0.6974789915966386, (13, 1, False): -0.6944444444444444, (13, 10, False): -0.6358208955223881, (21, 4, True): 0.9111111111111111, (18, 5, False): -0.782608695652174, (18, 7, True): -0.5882352941176471, (13, 8, False): -0.4716981132075472, (12, 6, False): -0.5172413793103449, (21, 3, True): 0.8780487804878049, (16, 9, False): -0.6526315789473685, (20, 6, False): 0.7123287671232876, (14, 6, False): -0.5777777777777777, (16, 9, True): -0.125, (20, 8, False): 0.75177304964539, (20, 8, True): 0.782608695652174, (21, 10, True): 0.8764044943820225, (19, 10, True): -0.2638888888888889, (17, 8, False): -0.6974789915966386, (21, 8, True): 0.9183673469387755, (21, 6, False): 0.9264705882352942, (20, 7, False): 0.7837837837837838, (14, 3, False): -0.5370370370370371, (17, 6, False): -0.7058823529411765, (17, 6, True): -0.16666666666666666, (18, 1, False): -0.7387387387387387, (21, 2, False): 0.825, (14, 1, True): -0.8, (14, 8, False): -0.6571428571428571, (13, 9, False): -0.6105263157894737, (20, 6, True): 0.8, (16, 6, True): -0.6, (15, 2, False): -0.7457627118644068, (12, 2, False): -0.5531914893617021, (17, 10, True): -0.3333333333333333, (14, 9, False): -0.5684210526315789, (21, 5, True): 0.9411764705882353, (15, 5, True): -0.14285714285714285, (20, 4, False): 0.6544117647058824, (18, 8, False): -0.811965811965812, (21, 7, True): 0.9245283018867925, (19, 6, False): -0.8290598290598291, (20, 4, True): 0.631578947368421, (21, 6, True): 0.9032258064516129, (17, 5, True): -0.16666666666666666, (20, 2, True): 0.8095238095238095, (15, 7, False): -0.6101694915254238, (15, 10, True): -0.7142857142857143, (19, 6, True): -0.2222222222222222, (18, 10, True): -0.6129032258064516, (12, 5, False): -0.7352941176470589, (13, 2, False): -0.7032967032967034, (17, 9, False): -0.6262626262626263, (14, 10, True): -0.35185185185185186, (13, 10, True): -0.36363636363636365, (19, 1, True): -0.2727272727272727, (17, 1, True): -0.19047619047619047, (19, 7, False): -0.7545454545454545, (19, 7, True): -0.75, (21, 1, True): 0.55, (14, 4, False): -0.6210526315789474, (21, 3, False): 0.9042553191489362, (20, 9, True): 0.6842105263157895, (21, 2, True): 0.84, (12, 9, False): -0.375, (16, 8, True): -0.16666666666666666, (15, 8, True): -0.25, (12, 8, True): -0.4, (12, 7, False): -0.5777777777777777, (17, 8, True): -0.7333333333333333, (14, 8, True): -0.16666666666666666, (12, 10, True): -0.5294117647058824, (12, 3, False): -0.5862068965517241, (18, 6, False): -0.7326732673267327, (12, 7, True): -0.6, (20, 5, True): 0.9473684210526315, (16, 5, True): -0.3, (19, 2, False): -0.7868852459016393, (19, 3, True): -0.375, (18, 3, True): -0.4666666666666667, (15, 3, True): -0.1111111111111111, (20, 7, True): 0.5454545454545454, (14, 7, True): -0.42857142857142855, (15, 7, True): -0.09090909090909091, (16, 2, True): -0.25, (13, 1, True): -0.7777777777777778, (13, 3, True): -0.7, (13, 6, False): -0.6451612903225806, (18, 6, True): -0.4444444444444444, (14, 6, True): -0.6, (14, 5, True): -0.15384615384615385, (20, 1, True): 0.17391304347826086, (16, 1, True): 0.0, (13, 6, True): -0.42857142857142855, (12, 6, True): -0.5, (13, 9, True): 0.0, (15, 1, True): -0.4666666666666667, (20, 3, True): 0.8571428571428571, (13, 2, True): -0.14285714285714285, (14, 9, True): 0.6, (14, 3, True): -0.8181818181818182, (18, 5, True): -0.35, (17, 2, True): -0.8333333333333334, (12, 3, True): 0.0, (17, 4, True): -0.21052631578947367, (18, 2, True): -0.25, (17, 3, True): 0.0, (16, 7, True): -0.25, (13, 7, True): -0.1111111111111111, (12, 1, True): -0.5, (14, 2, True): 0.0, (18, 1, True): -0.3333333333333333, (17, 7, True): 0.14285714285714285, (16, 3, True): -0.1111111111111111, (19, 2, True): -0.5789473684210527, (12, 4, True): 0.0, (15, 9, True): -0.8, (13, 5, True): -0.5555555555555556, (18, 8, True): -0.5, (15, 2, True): -0.5714285714285714, (17, 9, True): -0.6666666666666666, (19, 8, True): -0.6923076923076923, (15, 4, True): -0.1111111111111111, (12, 5, True): -0.14285714285714285, (12, 2, True): 0.3333333333333333, (15, 6, True): -0.5555555555555556, (12, 9, True): 0.25})\n"
     ]
    },
    {
     "name": "stderr",
     "output_type": "stream",
     "text": [
      "\n"
     ]
    }
   ],
   "source": [
    "V_10k = mc_prediction(env, SimpleBlackjackPolicy(), num_episodes=10000)\n",
    "print(V_10k)"
   ]
  },
  {
   "cell_type": "markdown",
   "metadata": {
    "nbgrader": {
     "grade": false,
     "grade_id": "cell-9d32f907f180c088",
     "locked": true,
     "schema_version": 1,
     "solution": false
    }
   },
   "source": [
    "Now make *4 plots* like Figure 5.1 in the book. You can either make 3D plots or heatmaps. Make sure that your results look similar to the results in the book. Give your plots appropriate titles, axis labels, etc."
   ]
  },
  {
   "cell_type": "code",
   "execution_count": 14,
   "metadata": {
    "nbgrader": {
     "grade": false,
     "grade_id": "cell-cbaf4d6a0e4c00fa",
     "locked": true,
     "schema_version": 1,
     "solution": false
    }
   },
   "outputs": [
    {
     "name": "stderr",
     "output_type": "stream",
     "text": [
      "100%|██████████| 10000/10000 [00:01<00:00, 5222.41it/s]\n",
      "100%|██████████| 500000/500000 [01:34<00:00, 5297.19it/s]"
     ]
    },
    {
     "name": "stdout",
     "output_type": "stream",
     "text": [
      "CPU times: user 1min 35s, sys: 3.62 s, total: 1min 39s\n",
      "Wall time: 1min 36s\n"
     ]
    },
    {
     "name": "stderr",
     "output_type": "stream",
     "text": [
      "\n"
     ]
    }
   ],
   "source": [
    "%%time\n",
    "# Let's run your code one time\n",
    "V_10k = mc_prediction(env, SimpleBlackjackPolicy(), num_episodes=10000)\n",
    "V_500k = mc_prediction(env, SimpleBlackjackPolicy(), num_episodes=500000)"
   ]
  },
  {
   "cell_type": "code",
   "execution_count": 15,
   "metadata": {
    "nbgrader": {
     "grade": true,
     "grade_id": "cell-ba046443478aa517",
     "locked": false,
     "points": 2,
     "schema_version": 1,
     "solution": true
    }
   },
   "outputs": [
    {
     "data": {
      "image/png": "[encoded data removed]",
      "text/plain": [
       "<Figure size 792x792 with 8 Axes>"
      ]
     },
     "metadata": {
      "needs_background": "light"
     },
     "output_type": "display_data"
    }
   ],
   "source": [
    "\n",
    "def get_heatmap(V_, usables):\n",
    "    def min_max(lst):\n",
    "        return min(lst), max(lst)\n",
    "    min_sum, max_sum = min_max([player_sum for player_sum,_,_ in V_])\n",
    "    min_dealer, max_dealer = min_max([dealer_card for _,dealer_card,_ in V_])\n",
    "    \n",
    "    heatmap = np.zeros((max_sum-min_sum+1, max_dealer-min_dealer+1))\n",
    "    \n",
    "    for s in V_:\n",
    "        player_sum, dealer_card, usable = s\n",
    "        if (usables and usable) or (not usables and not usable):\n",
    "            heatmap[player_sum-min_sum, dealer_card-min_dealer] = V_[s]\n",
    "            \n",
    "    return np.flip(heatmap, axis=0), (min_sum, max_sum, min_dealer, max_dealer)\n",
    "\n",
    "def show_heatmap(heatmap, extremes, title=\"\"):\n",
    "    min_sum, max_sum, min_dealer, max_dealer = extremes\n",
    "    plt.imshow(heatmap)\n",
    "    plt.colorbar()\n",
    "    plt.yticks(range(heatmap.shape[0]), range(max_sum, min_sum-1, -1))\n",
    "    plt.xticks(range(heatmap.shape[1]), [\"A\"] + list(range(min_dealer+1, max_dealer+1)))\n",
    "    plt.xlabel(\"Dealer showing\")\n",
    "    plt.ylabel(\"Player sum\")\n",
    "    plt.title(title)\n",
    "#     plt.show()\n",
    "    \n",
    "V10_u, V10_u_extr = get_heatmap(V_10k, usables=True)\n",
    "V10_no_u, V10_no_u_extr = get_heatmap(V_10k, usables=False)\n",
    "V500_u, V500_u_extr = get_heatmap(V_500k, usables=True)\n",
    "V500_no_u, V500_no_u_extr = get_heatmap(V_500k, usables=False)\n",
    "\n",
    "plt.figure(figsize=(11,11))\n",
    "plt.suptitle(\"Approximate state-value functions\", fontsize=15)\n",
    "plt.subplot(2,2,1)\n",
    "show_heatmap(V10_u, V10_u_extr, \"10k episodes, usable ace\")\n",
    "plt.subplot(2,2,3)\n",
    "show_heatmap(V10_no_u, V10_no_u_extr, \"10k episodes, no usable ace\")\n",
    "plt.subplot(2,2,2)\n",
    "show_heatmap(V500_u, V500_u_extr, \"500k episodes, usable ace\")\n",
    "plt.subplot(2,2,4)\n",
    "show_heatmap(V500_no_u, V500_no_u_extr, \"500k episodes, no usable ace\")"
   ]
  },
  {
   "cell_type": "markdown",
   "metadata": {},
   "source": [
    "## 2. Off-policy Monte Carlo prediction\n",
    "In real world, it is often beneficial to learn from the experience of others in addition to your own. For example, you can probably infer that running off the cliff with a car is a bad idea if you consider what \"return\" people who have tried it received.\n",
    "\n",
    "Similarly, we can benefit from the experience of other agents in reinforcement learning. In this exercise we will use off-policy monte carlo to estimate the value function of our target policy using the experience from a different behavior policy. Our target policy will be the simple policy defined above (stick if we have *20* or *21* points) and we will use a random policy that randomly chooses to stick or hit (both with 50% probability) as a behavior policy. As a first step, implement a random BlackJack policy."
   ]
  },
  {
   "cell_type": "code",
   "execution_count": 16,
   "metadata": {},
   "outputs": [
    {
     "name": "stdout",
     "output_type": "stream",
     "text": [
      "Appending to mc_autograde.py\n"
     ]
    }
   ],
   "source": [
    "%%execwritefile -a mc_autograde.py\n",
    "\n",
    "class RandomBlackjackPolicy(object):\n",
    "    \"\"\"\n",
    "    A random BlackJack policy.\n",
    "    \"\"\"\n",
    "    def get_probs(self, states, actions):\n",
    "        \"\"\"\n",
    "        This method takes a list of states and a list of actions and returns a numpy array that contains \n",
    "        a probability of perfoming action in given state for every corresponding state action pair. \n",
    "\n",
    "        Args:\n",
    "            states: a list of states.\n",
    "            actions: a list of actions.\n",
    "\n",
    "        Returns:\n",
    "            Numpy array filled with probabilities (same length as states and actions)\n",
    "        \"\"\"\n",
    "        # YOUR CODE HERE\n",
    "        probs=np.zeros(len(states))+0.5\n",
    "        return np.array(probs)\n",
    "    \n",
    "    def sample_action(self, state):\n",
    "        \"\"\"\n",
    "        This method takes a state as input and returns an action sampled from this policy.  \n",
    "\n",
    "        Args:\n",
    "            state: current state\n",
    "\n",
    "        Returns:\n",
    "            An action (int).\n",
    "        \"\"\"\n",
    "        # YOUR CODE HERE\n",
    "        options = [0,1]\n",
    "        action = np.random.choice(options, p=self.get_probs([state]*2, options))\n",
    "        return action\n"
   ]
  },
  {
   "cell_type": "code",
   "execution_count": 17,
   "metadata": {},
   "outputs": [
    {
     "name": "stdout",
     "output_type": "stream",
     "text": [
      "State: (20, 6, False)\n",
      "Sampled Action: 1\n",
      "Probabilities [stick, hit]: [0.5 0.5]\n"
     ]
    }
   ],
   "source": [
    "# Let's check if it makes sense\n",
    "env = BlackjackEnv()\n",
    "s = env.reset()\n",
    "policy = RandomBlackjackPolicy()\n",
    "print(\"State: {}\\nSampled Action: {}\\nProbabilities [stick, hit]: {}\".format(s, policy.sample_action(s), policy.get_probs([s,s],[0,1])))"
   ]
  },
  {
   "cell_type": "markdown",
   "metadata": {},
   "source": [
    "Now implement the MC prediction algorithm with ordinary importance sampling. Use the sampling function from above to sample data from a single episode.\n",
    "\n",
    "Hint: Get probs functions may be handy. You can use `for i in tqdm(range(num_episodes))` to show a progress bar."
   ]
  },
  {
   "cell_type": "code",
   "execution_count": 18,
   "metadata": {},
   "outputs": [
    {
     "name": "stdout",
     "output_type": "stream",
     "text": [
      "Appending to mc_autograde.py\n"
     ]
    }
   ],
   "source": [
    "%%execwritefile -a mc_autograde.py\n",
    "\n",
    "def mc_importance_sampling(env, behavior_policy, target_policy, num_episodes, discount_factor=1.0,\n",
    "                           sampling_function=sample_episode):\n",
    "    \"\"\"\n",
    "    Monte Carlo prediction algorithm. Calculates the value function\n",
    "    for a given target policy using behavior policy and ordinary importance sampling.\n",
    "    \n",
    "    Args:\n",
    "        env: OpenAI gym environment.\n",
    "        behavior_policy: A policy used to collect the data.\n",
    "        target_policy: A policy which value function we want to estimate.\n",
    "        num_episodes: Number of episodes to sample.\n",
    "        discount_factor: Gamma discount factor.\n",
    "        sampling_function: Function that generates data from one episode.\n",
    "    \n",
    "    Returns:\n",
    "        A dictionary that maps from state -> value.\n",
    "        The state is a tuple and the value is a float.\n",
    "    \"\"\"\n",
    "    # YOUR CODE HERE\n",
    "    # Keeps track of current V and count of returns for each state\n",
    "    # to calculate an update.\n",
    "    V = defaultdict(float)\n",
    "    returns_count = defaultdict(float)\n",
    "    returns_sum = defaultdict(float)\n",
    "    \n",
    "    for i in tqdm(range(num_episodes)):\n",
    "        trajectory_data = sampling_function(env, behavior_policy)\n",
    "        states, actions, rewards, dones = trajectory_data\n",
    "        T_trajectory = len(states)-1\n",
    "        G = 0\n",
    "        for t in range(T_trajectory, -1, -1):\n",
    "            state_t = states[t]\n",
    "            action_t = actions[t]\n",
    "            # use state[t] because this is the state that came\n",
    "            # before doing action actions[t] and receiving reward rewards[t]\n",
    "            G = discount_factor * G + rewards[t]\n",
    "            imp_w = target_policy.get_probs([state_t],[action_t])/behavior_policy.get_probs([state_t],[action_t])\n",
    "            if state_t not in states[:t]:\n",
    "                returns_sum[state_t] += G * imp_w\n",
    "                returns_count[state_t] += 1\n",
    "                V[state_t] = returns_sum[state_t] / returns_count[state_t]\n",
    "    # codegrade marks this part as incorrect, but we believe it's correct as we adapted the first part\n",
    "    # of this assignment according to the slides concening importance sampling. Also, codegrade's error\n",
    "    # message states that only after 10k episodes the v-value deviates from what it's supposed to be, so\n",
    "    # this might be due to rounding issues or other small effects.\n",
    "\n",
    "    return V"
   ]
  },
  {
   "cell_type": "code",
   "execution_count": 19,
   "metadata": {},
   "outputs": [
    {
     "name": "stderr",
     "output_type": "stream",
     "text": [
      "100%|██████████| 10000/10000 [00:02<00:00, 4697.75it/s]"
     ]
    },
    {
     "name": "stdout",
     "output_type": "stream",
     "text": [
      "defaultdict(<class 'float'>, {(19, 10, False): array([-0.93710692]), (15, 7, False): array([-0.62365591]), (12, 6, False): array([-0.46808511]), (13, 3, False): array([-0.79120879]), (18, 7, False): array([-0.93506494]), (20, 5, False): array([0.56666667]), (12, 10, False): array([-0.65625]), (15, 1, False): array([-0.84210526]), (17, 10, False): array([-0.93770492]), (21, 7, False): array([1.25]), (16, 10, False): array([-0.76923077]), (12, 2, False): array([-0.32323232]), (20, 7, False): array([0.75]), (20, 10, False): array([0.38113949]), (14, 10, False): array([-0.77514793]), (12, 7, False): array([-0.52380952]), (14, 9, False): array([-0.575]), (12, 4, False): array([-0.75609756]), (15, 9, False): array([-0.86956522]), (17, 5, False): array([-0.75324675]), (19, 8, False): array([-0.83950617]), (16, 8, False): array([-0.43010753]), (21, 1, False): array([0.69387755]), (20, 2, False): array([0.51094891]), (21, 10, False): array([0.87309645]), (15, 10, False): array([-0.69421488]), (14, 1, False): array([-0.88888889]), (13, 8, False): array([-0.70454545]), (14, 8, False): array([-0.6]), (12, 8, False): array([-0.55421687]), (21, 6, False): array([0.9122807]), (20, 6, False): array([0.73684211]), (17, 6, False): array([-0.625]), (17, 10, True): array([-0.76666667]), (18, 8, False): array([-0.66666667]), (17, 8, False): array([-0.80952381]), (14, 6, False): array([-0.77272727]), (21, 6, True): array([1.16666667]), (21, 2, False): array([0.83333333]), (17, 2, False): array([-0.7816092]), (13, 2, False): array([-0.27586207]), (16, 2, True): array([-0.83333333]), (18, 2, False): array([-0.68421053]), (18, 10, False): array([-0.86127168]), (18, 4, False): array([-0.92307692]), (15, 4, False): array([-0.65909091]), (17, 4, False): array([-0.86486486]), (14, 4, False): array([-0.41304348]), (20, 4, True): array([0.8]), (13, 5, False): array([-0.38961039]), (16, 6, False): array([-0.71910112]), (18, 5, False): array([-0.8]), (18, 3, False): array([-0.74285714]), (20, 8, False): array([0.64285714]), (12, 5, False): array([-0.52380952]), (14, 5, False): array([-0.63043478]), (21, 8, False): array([0.93103448]), (19, 4, False): array([-0.925]), (15, 3, False): array([-0.75555556]), (21, 3, True): array([1.15]), (20, 4, False): array([0.65346535]), (13, 4, False): array([-0.53658537]), (15, 2, False): array([-0.74725275]), (19, 5, False): array([-0.92537313]), (16, 5, False): array([-0.62686567]), (14, 2, False): array([-0.24324324]), (17, 9, False): array([-0.68817204]), (13, 10, False): array([-0.6433121]), (20, 1, False): array([0.09677419]), (20, 9, False): array([0.67256637]), (19, 8, True): array([-0.54545455]), (15, 8, True): array([0.]), (20, 7, True): array([0.66666667]), (19, 7, True): array([-0.54545455]), (19, 3, False): array([-0.925]), (16, 4, False): array([-0.63157895]), (21, 7, True): array([1.02439024]), (13, 6, False): array([-0.40425532]), (19, 1, False): array([-0.91666667]), (19, 6, False): array([-1.09589041]), (16, 9, False): array([-0.72164948]), (16, 4, True): array([-0.11111111]), (13, 5, True): array([0.4]), (12, 10, True): array([-0.19047619]), (18, 9, False): array([-0.81578947]), (21, 3, False): array([1.]), (20, 3, False): array([0.74820144]), (13, 1, False): array([-0.79569892]), (13, 1, True): array([-0.33333333]), (17, 1, False): array([-0.66666667]), (21, 1, True): array([0.72]), (16, 1, True): array([-0.36363636]), (21, 4, True): array([0.97560976]), (21, 10, True): array([0.80213904]), (16, 2, False): array([-0.62921348]), (12, 1, False): array([-0.65934066]), (12, 1, True): array([-2.]), (16, 10, True): array([-0.4]), (13, 4, True): array([0.6]), (14, 7, False): array([-0.48275862]), (21, 4, False): array([0.68571429]), (16, 7, False): array([-0.68965517]), (15, 8, False): array([-0.72289157]), (21, 8, True): array([0.8]), (18, 10, True): array([-0.83333333]), (15, 6, False): array([-0.5625]), (18, 6, False): array([-0.97297297]), (16, 3, False): array([-0.67961165]), (14, 2, True): array([0.]), (16, 1, False): array([-0.61904762]), (21, 5, False): array([1.03846154]), (21, 5, True): array([0.88]), (18, 1, False): array([-0.86046512]), (17, 7, True): array([-0.57142857]), (20, 6, True): array([0.77777778]), (17, 3, False): array([-1.]), (20, 10, True): array([0.66666667]), (17, 7, False): array([-0.58461538]), (14, 3, False): array([-0.7804878]), (12, 9, False): array([-0.65060241]), (20, 9, True): array([0.375]), (19, 7, False): array([-0.88095238]), (19, 1, True): array([-0.81818182]), (18, 1, True): array([-1.]), (21, 9, False): array([1.1]), (16, 6, True): array([-0.11764706]), (17, 9, True): array([0.]), (12, 3, False): array([-0.64367816]), (19, 9, False): array([-0.65822785]), (15, 5, False): array([-0.74725275]), (19, 10, True): array([0.]), (15, 9, True): array([-0.44444444]), (14, 9, True): array([0.2]), (13, 9, False): array([-0.4]), (13, 7, False): array([-0.54320988]), (18, 7, True): array([0.44444444]), (17, 6, True): array([-0.35294118]), (21, 9, True): array([1.11111111]), (15, 3, True): array([-0.3]), (20, 5, True): array([0.44444444]), (18, 4, True): array([0.]), (15, 2, True): array([-0.36363636]), (15, 5, True): array([0.]), (18, 8, True): array([-0.18181818]), (17, 8, True): array([-0.63157895]), (16, 7, True): array([0.]), (14, 5, True): array([-0.25]), (16, 9, True): array([-0.46153846]), (13, 9, True): array([-0.90909091]), (15, 6, True): array([0.36363636]), (19, 2, False): array([-0.87878788]), (14, 7, True): array([0.18181818]), (17, 4, True): array([-0.23529412]), (18, 2, True): array([-0.76923077]), (12, 2, True): array([-1.]), (14, 6, True): array([0.6]), (19, 5, True): array([-0.72727273]), (21, 2, True): array([0.84210526]), (14, 3, True): array([0.5]), (13, 10, True): array([-0.0952381]), (12, 9, True): array([-0.5]), (18, 9, True): array([-0.33333333]), (15, 10, True): array([-0.28571429]), (20, 2, True): array([1.15789474]), (20, 1, True): array([-0.125]), (18, 6, True): array([0.16666667]), (18, 3, True): array([0.26666667]), (16, 8, True): array([-0.33333333]), (15, 4, True): array([-0.72727273]), (14, 8, True): array([0.5]), (14, 10, True): array([-0.66666667]), (17, 2, True): array([-0.14285714]), (19, 2, True): array([-0.61538462]), (17, 1, True): array([-0.625]), (18, 5, True): array([-0.6]), (12, 5, True): array([0.]), (14, 1, True): array([-0.57142857]), (19, 4, True): array([0.18181818]), (13, 8, True): array([-0.4]), (12, 8, True): array([0.]), (20, 3, True): array([0.61538462]), (13, 6, True): array([0.5]), (12, 6, True): array([0.]), (17, 5, True): array([0.76923077]), (20, 8, True): array([1.23076923]), (13, 7, True): array([0.57142857]), (19, 9, True): array([-0.57142857]), (19, 6, True): array([0.]), (14, 4, True): array([-0.8]), (16, 5, True): array([-0.25]), (17, 3, True): array([-0.8]), (16, 3, True): array([-0.5]), (15, 7, True): array([-0.25]), (13, 2, True): array([-0.33333333]), (19, 3, True): array([-0.83333333]), (15, 1, True): array([-0.8]), (12, 4, True): array([-0.66666667]), (13, 3, True): array([-0.22222222]), (12, 3, True): array([0.8]), (12, 7, True): array([-0.33333333])})\n"
     ]
    },
    {
     "name": "stderr",
     "output_type": "stream",
     "text": [
      "\n"
     ]
    }
   ],
   "source": [
    "V_10k = mc_importance_sampling(env, RandomBlackjackPolicy(), SimpleBlackjackPolicy(), num_episodes=10000)\n",
    "print(V_10k)"
   ]
  },
  {
   "cell_type": "code",
   "execution_count": 20,
   "metadata": {},
   "outputs": [
    {
     "name": "stderr",
     "output_type": "stream",
     "text": [
      "100%|██████████| 10000/10000 [00:02<00:00, 4853.09it/s]\n",
      "100%|██████████| 500000/500000 [01:37<00:00, 5130.71it/s]"
     ]
    },
    {
     "name": "stdout",
     "output_type": "stream",
     "text": [
      "CPU times: user 1min 38s, sys: 4.38 s, total: 1min 43s\n",
      "Wall time: 1min 39s\n"
     ]
    },
    {
     "name": "stderr",
     "output_type": "stream",
     "text": [
      "\n"
     ]
    }
   ],
   "source": [
    "%%time\n",
    "# Let's run your code one time\n",
    "V_10k2 = mc_importance_sampling(env, RandomBlackjackPolicy(), SimpleBlackjackPolicy(), num_episodes=10000)\n",
    "V_500k2 = mc_importance_sampling(env, RandomBlackjackPolicy(), SimpleBlackjackPolicy(), num_episodes=500000)"
   ]
  },
  {
   "cell_type": "markdown",
   "metadata": {},
   "source": [
    "Plot the V function. Do the plots look like what you expected?"
   ]
  },
  {
   "cell_type": "code",
   "execution_count": 21,
   "metadata": {},
   "outputs": [
    {
     "data": {
      "image/png": "[encoded data removed]",
      "text/plain": [
       "<Figure size 792x792 with 8 Axes>"
      ]
     },
     "metadata": {
      "needs_background": "light"
     },
     "output_type": "display_data"
    }
   ],
   "source": [
    "# YOUR CODE HERE\n",
    "V10_u2, V10_u_extr2 = get_heatmap(V_10k2, usables=True)\n",
    "V10_no_u2, V10_no_u_extr2 = get_heatmap(V_10k2, usables=False)\n",
    "V500_u2, V500_u_extr2 = get_heatmap(V_500k2, usables=True)\n",
    "V500_no_u2, V500_no_u_extr2 = get_heatmap(V_500k2, usables=False)\n",
    "\n",
    "plt.figure(figsize=(11,11))\n",
    "plt.suptitle(\"Approximate state-value functions\", fontsize=15)\n",
    "plt.subplot(2,2,1)\n",
    "show_heatmap(V10_u2, V10_u_extr2, \"10k episodes, usable ace\")\n",
    "plt.subplot(2,2,3)\n",
    "show_heatmap(V10_no_u2, V10_no_u_extr2, \"10k episodes, no usable ace\")\n",
    "plt.subplot(2,2,2)\n",
    "show_heatmap(V500_u2, V500_u_extr2, \"500k episodes, usable ace\")\n",
    "plt.subplot(2,2,4)\n",
    "show_heatmap(V500_no_u2, V500_no_u_extr2, \"500k episodes, no usable ace\")"
   ]
  },
  {
   "cell_type": "markdown",
   "metadata": {},
   "source": [
    "If you want to test/submit your solution **restart the kernel, run all cells and submit the mc_autograde.py file into codegrade.**"
   ]
  }
 ],
 "metadata": {
  "celltoolbar": "Create Assignment",
  "kernelspec": {
   "display_name": "Python 3",
   "language": "python",
   "name": "python3"
  },
  "language_info": {
   "codemirror_mode": {
    "name": "ipython",
    "version": 3
   },
   "file_extension": ".py",
   "mimetype": "text/x-python",
   "name": "python",
   "nbconvert_exporter": "python",
   "pygments_lexer": "ipython3",
   "version": "3.7.3"
  }
 },
 "nbformat": 4,
 "nbformat_minor": 2
}
